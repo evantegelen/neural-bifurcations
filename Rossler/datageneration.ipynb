{
 "cells": [
  {
   "cell_type": "code",
   "execution_count": 10,
   "id": "d4a8ea84",
   "metadata": {},
   "outputs": [
    {
     "data": {
      "application/vnd.jupyter.widget-view+json": {
       "model_id": "f2090519a7694b38b96659d030b3cba9",
       "version_major": 2,
       "version_minor": 0
      },
      "text/plain": [
       "interactive(children=(Dropdown(description='system', options={'Rössler': 'rossler'}, value='rossler'), FloatSl…"
      ]
     },
     "metadata": {},
     "output_type": "display_data"
    },
    {
     "data": {
      "text/plain": [
       "<function __main__.plot_system(system='Rossler', param=28.0)>"
      ]
     },
     "execution_count": 10,
     "metadata": {},
     "output_type": "execute_result"
    }
   ],
   "source": [
    "import numpy as np\n",
    "from scipy.integrate import solve_ivp\n",
    "import matplotlib.pyplot as plt\n",
    "from ipywidgets import interact, FloatSlider\n",
    "\n",
    "def rossler(t, state, a, b, c):\n",
    "    x, y, z = state\n",
    "    dxdt = -y - z\n",
    "    dydt = x + a * y\n",
    "    dzdt = b + z * (x - c)\n",
    "    return [dxdt, dydt, dzdt]\n",
    "\n",
    "\n",
    "def simulate_rossler(a, b, c, initial_state, t_span=(0, 10), dt=0.01):\n",
    "    t_eval = np.arange(t_span[0], t_span[1], dt)\n",
    "    sol = solve_ivp(\n",
    "        rossler, t_span, initial_state, args=(a, b, c),\n",
    "        t_eval=t_eval, rtol=1e-8, atol=1e-10\n",
    "    )\n",
    "    return sol.t, sol.y\n",
    "\n",
    "def plot_system(system='Rossler', param=28.0):\n",
    "    \n",
    "    a = 0.1\n",
    "    b = 0.1\n",
    "    c = param\n",
    "    initial_state1 = [-4.0, -4.0, 0.0]\n",
    "    #t1, states1 = simulate_rossler(a, b, c, initial_state1, t_span=(0, 200))\n",
    "    t1, states1 = simulate_rossler(a, b, c, initial_state1, t_span=(0, 200), dt=0.005)\n",
    "    states1 = states1[:, ::20]  # Downsample to match data generation\n",
    "    title = f\"Rössler System (a={a}, b={b}, c={c:.2f})\"\n",
    "    label1 = 'Initial: [1.0, 1.0, 1.0]'\n",
    "    label2 = 'Initial: [-1.0, -1.0, -1.0]'\n",
    "\n",
    "    fig = plt.figure(figsize=(10, 7))\n",
    "    ax = fig.add_subplot(111, projection='3d')\n",
    "    ax.plot(states1[0], states1[1], states1[2], color='mediumpurple', label=label1)\n",
    "    ax.set_title(title)\n",
    "    ax.set_xlabel(\"X\")\n",
    "    ax.set_ylabel(\"Y\")\n",
    "    ax.set_zlabel(\"Z\")\n",
    "    ax.set_xlim([-10, 15])\n",
    "    ax.set_ylim([-10, 0])\n",
    "    ax.set_zlim([0, 15])\n",
    "    ax.legend()\n",
    "    plt.show()\n",
    "\n",
    "interact(\n",
    "    plot_system,\n",
    "    system={ 'Rössler': 'rossler'},\n",
    "    param=FloatSlider(min=0, max=12, step=0.5, value=4, description='r')\n",
    ")"
   ]
  },
  {
   "cell_type": "code",
   "execution_count": null,
   "id": "447d57e2",
   "metadata": {},
   "outputs": [],
   "source": []
  },
  {
   "cell_type": "code",
   "execution_count": 35,
   "id": "f12e9bc5",
   "metadata": {},
   "outputs": [
    {
     "name": "stdout",
     "output_type": "stream",
     "text": [
      "torch.Size([100, 11, 3])\n"
     ]
    }
   ],
   "source": [
    "import os\n",
    "import torch\n",
    "\n",
    "def simulate_rossler(a, b, c, initial_state, t_span=(0, 200), dt=0.01):\n",
    "    t_eval = np.arange(t_span[0], t_span[1] + dt, dt)\n",
    "    sol = solve_ivp(\n",
    "        rossler, t_span, initial_state, args=(a, b, c),\n",
    "        t_eval=t_eval, rtol=1e-8, atol=1e-10\n",
    "    )\n",
    "    return sol.t, sol.y\n",
    "\n",
    "def save_trajectory_plot_with_samples(states, t, c, initial_state, sample_t, save_dir, idx_traj):\n",
    "    fig = plt.figure(figsize=(8, 6))\n",
    "    ax = fig.add_subplot(111, projection='3d')\n",
    "    # Plot full trajectory\n",
    "    ax.plot(states[0], states[1], states[2], label='Full trajectory')\n",
    "    # Plot sampled points\n",
    "    sample_indices = [np.argmin(np.abs(t - st)) for st in sample_t]\n",
    "    ax.scatter(states[0][sample_indices], states[1][sample_indices], states[2][sample_indices],\n",
    "               color='red', s=50, label='Sampled points')\n",
    "    ax.set_title(f\"Rössler (c={c}, init={initial_state})\")\n",
    "    ax.set_xlabel(\"X\")\n",
    "    ax.set_ylabel(\"Y\")\n",
    "    ax.set_zlabel(\"Z\")\n",
    "    ax.set_xlim([-10, 15])\n",
    "    ax.set_ylim([-15, 0])\n",
    "    ax.set_zlim([0, 20])\n",
    "    ax.legend()\n",
    "    plt.tight_layout()\n",
    "    fname = f\"rossler_traj{idx_traj}_c{c}_init{initial_state}.png\"\n",
    "    plt.savefig(os.path.join(save_dir, fname))\n",
    "    plt.close(fig)\n",
    "\n",
    "def generate_rossler_data_at_timepoints(c_list, initial_state, sample_t, t_span=(0, 200), dt=0.01, a=0.1, b=0.1):\n",
    "    save_dir = \"rossler_trajectories\"\n",
    "    os.makedirs(save_dir, exist_ok=True)\n",
    "    num_c = len(c_list)\n",
    "    num_samples = len(sample_t)\n",
    "    data = torch.zeros((num_samples, num_c, 3), dtype=torch.float32)\n",
    "\n",
    "    for idx, c in enumerate(c_list):\n",
    "        t, states = simulate_rossler(a, b, c, initial_state, t_span, dt)\n",
    "        sample_indices = [np.argmin(np.abs(t - st)) for st in sample_t]\n",
    "        sampled_states = states[:, sample_indices].T  # shape: (num_samples, 3)\n",
    "        data[:, idx, :] = torch.tensor(sampled_states, dtype=torch.float32)\n",
    "        save_trajectory_plot_with_samples(states, t, c, initial_state, sample_t, save_dir, idx)\n",
    "    return data\n",
    "\n",
    "# Example usage:\n",
    "initial_state = [-4.0, -4.0, 0.0]  # Initial state for the Rössler system\n",
    "c_list = [3,3.5,4,4.5,5,5.5,6,6.5,7,8,8.5]  # Your desired c values\n",
    "sample_t = np.arange(900, 1000, 1)  # Sample time points from 200 to 300 with step 0.1\n",
    "data = generate_rossler_data_at_timepoints(c_list, initial_state, sample_t, t_span=(0, 1000), dt=0.01)\n",
    "print(data.shape)\n",
    "\n",
    "#Save the data and the time points in a .pth file\n",
    "torch.save({'data': data, 'c_list': torch.tensor(sample_t), 'sample_t': torch.tensor(sample_t)}, 'rossler_data.pth')\n"
   ]
  }
 ],
 "metadata": {
  "kernelspec": {
   "display_name": "pluto",
   "language": "python",
   "name": "python3"
  },
  "language_info": {
   "codemirror_mode": {
    "name": "ipython",
    "version": 3
   },
   "file_extension": ".py",
   "mimetype": "text/x-python",
   "name": "python",
   "nbconvert_exporter": "python",
   "pygments_lexer": "ipython3",
   "version": "3.12.7"
  }
 },
 "nbformat": 4,
 "nbformat_minor": 5
}
